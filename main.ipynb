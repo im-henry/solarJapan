{
 "cells": [
  {
   "cell_type": "code",
   "execution_count": null,
   "id": "1d4d9a60",
   "metadata": {},
   "outputs": [],
   "source": [
    "Hola mundo"
   ]
  }
 ],
 "metadata": {
  "language_info": {
   "name": "python"
  }
 },
 "nbformat": 4,
 "nbformat_minor": 5
}
